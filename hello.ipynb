{
 "cells": [
  {
   "cell_type": "code",
   "execution_count": 6,
   "metadata": {},
   "outputs": [
    {
     "name": "stdout",
     "output_type": "stream",
     "text": [
      "   a  b  c\n",
      "0  1  2  3\n",
      "1  4  5  6\n",
      "2  7  8  9\n"
     ]
    }
   ],
   "source": [
    "import pandas as pd\n",
    "import numpy as np\n",
    "import csv\n",
    "df = pd.DataFrame(np.array([[1, 2, 3], [4, 5, 6], [7, 8, 9]]), \n",
    "                columns=['a', 'b', 'c'])\n",
    "print(df)"
   ]
  },
  {
   "cell_type": "code",
   "execution_count": 17,
   "metadata": {},
   "outputs": [
    {
     "data": {
      "text/plain": [
       "'192.168.18.105'"
      ]
     },
     "execution_count": 17,
     "metadata": {},
     "output_type": "execute_result"
    }
   ],
   "source": [
    "import pandas.io.sql as sqlio\n",
    "import socket\n",
    "socket.gethostbyname(socket.gethostname())"
   ]
  },
  {
   "cell_type": "code",
   "execution_count": 9,
   "metadata": {},
   "outputs": [],
   "source": [
    "from sqlalchemy import create_engine, MetaData, Table, inspect"
   ]
  },
  {
   "cell_type": "code",
   "execution_count": 2,
   "metadata": {},
   "outputs": [
    {
     "ename": "OperationalError",
     "evalue": "connection to server at \"192.168.18.105\", port 5432 failed: FATAL:  no pg_hba.conf entry for host \"192.168.18.105\", user \"postgres\", database \"pydw\", no encryption\n",
     "output_type": "error",
     "traceback": [
      "\u001b[1;31m---------------------------------------------------------------------------\u001b[0m",
      "\u001b[1;31mOperationalError\u001b[0m                          Traceback (most recent call last)",
      "Cell \u001b[1;32mIn[2], line 3\u001b[0m\n\u001b[0;32m      1\u001b[0m \u001b[39m#conectando SGBD PostgreSQL \u001b[39;00m\n\u001b[0;32m      2\u001b[0m \u001b[39mimport\u001b[39;00m \u001b[39mpsycopg2\u001b[39;00m \u001b[39mas\u001b[39;00m \u001b[39mps\u001b[39;00m\n\u001b[1;32m----> 3\u001b[0m conn2 \u001b[39m=\u001b[39m ps\u001b[39m.\u001b[39;49mconnect(dbname \u001b[39m=\u001b[39;49m \u001b[39m\"\u001b[39;49m\u001b[39mpydw\u001b[39;49m\u001b[39m\"\u001b[39;49m,\n\u001b[0;32m      4\u001b[0m                    user \u001b[39m=\u001b[39;49m \u001b[39m\"\u001b[39;49m\u001b[39mpostgres\u001b[39;49m\u001b[39m\"\u001b[39;49m,\n\u001b[0;32m      5\u001b[0m                    password \u001b[39m=\u001b[39;49m \u001b[39m\"\u001b[39;49m\u001b[39m125802\u001b[39;49m\u001b[39m\"\u001b[39;49m,\n\u001b[0;32m      6\u001b[0m                    host \u001b[39m=\u001b[39;49m \u001b[39m\"\u001b[39;49m\u001b[39m192.168.18.105\u001b[39;49m\u001b[39m\"\u001b[39;49m,\n\u001b[0;32m      7\u001b[0m                    port \u001b[39m=\u001b[39;49m \u001b[39m\"\u001b[39;49m\u001b[39m5432\u001b[39;49m\u001b[39m\"\u001b[39;49m)\n\u001b[0;32m      8\u001b[0m \u001b[39m# Selecionando e executando comando no dataframework\u001b[39;00m\n\u001b[0;32m      9\u001b[0m cursor \u001b[39m=\u001b[39m conn2\u001b[39m.\u001b[39mcursor()\n",
      "File \u001b[1;32m~\\AppData\\Local\\Packages\\PythonSoftwareFoundation.Python.3.11_qbz5n2kfra8p0\\LocalCache\\local-packages\\Python311\\site-packages\\psycopg2\\__init__.py:122\u001b[0m, in \u001b[0;36mconnect\u001b[1;34m(dsn, connection_factory, cursor_factory, **kwargs)\u001b[0m\n\u001b[0;32m    119\u001b[0m     kwasync[\u001b[39m'\u001b[39m\u001b[39masync_\u001b[39m\u001b[39m'\u001b[39m] \u001b[39m=\u001b[39m kwargs\u001b[39m.\u001b[39mpop(\u001b[39m'\u001b[39m\u001b[39masync_\u001b[39m\u001b[39m'\u001b[39m)\n\u001b[0;32m    121\u001b[0m dsn \u001b[39m=\u001b[39m _ext\u001b[39m.\u001b[39mmake_dsn(dsn, \u001b[39m*\u001b[39m\u001b[39m*\u001b[39mkwargs)\n\u001b[1;32m--> 122\u001b[0m conn \u001b[39m=\u001b[39m _connect(dsn, connection_factory\u001b[39m=\u001b[39;49mconnection_factory, \u001b[39m*\u001b[39;49m\u001b[39m*\u001b[39;49mkwasync)\n\u001b[0;32m    123\u001b[0m \u001b[39mif\u001b[39;00m cursor_factory \u001b[39mis\u001b[39;00m \u001b[39mnot\u001b[39;00m \u001b[39mNone\u001b[39;00m:\n\u001b[0;32m    124\u001b[0m     conn\u001b[39m.\u001b[39mcursor_factory \u001b[39m=\u001b[39m cursor_factory\n",
      "\u001b[1;31mOperationalError\u001b[0m: connection to server at \"192.168.18.105\", port 5432 failed: FATAL:  no pg_hba.conf entry for host \"192.168.18.105\", user \"postgres\", database \"pydw\", no encryption\n"
     ]
    }
   ],
   "source": [
    "#conectando SGBD PostgreSQL \n",
    "import psycopg2 as ps\n",
    "conn2 = ps.connect(dbname = \"pydw\",\n",
    "                   user = \"postgres\",\n",
    "                   password = \"125802\",\n",
    "                   host = \"192.168.18.105\",\n",
    "                   port = \"5432\")\n",
    "# Selecionando e executando comando no dataframework\n",
    "cursor = conn2.cursor()\n",
    "query = \"SELECT * FROM financeiro\" \n",
    "df = pd.read_sql(query,conn2)\n",
    "print(df.head(20))"
   ]
  },
  {
   "cell_type": "code",
   "execution_count": null,
   "metadata": {},
   "outputs": [],
   "source": [
    "\n",
    "cursor = conn2.cursor()\n",
    "#Inserindo dados na tabela\n",
    "sql_insert = \"INSERT INTO financeiro (cod_fin, nome_fin, func_fin, salario_fin, mes_fin, descontos_fin, descricao_descontos) VALUES (03, 'Emma', 'vendedora','1230', '2022-11-07', '98.40', 'Desconto de 8% (FGTS)')\"\n",
    "cursor.execute(\"ROLLBACK\")\n",
    "cursor.execute(sql_insert)\n",
    "conn2.commit()"
   ]
  },
  {
   "cell_type": "code",
   "execution_count": null,
   "metadata": {},
   "outputs": [],
   "source": [
    "#Executando a atualização de um valor\n",
    "sql_update = \"UPDATE financeiro SET descricao_descontos = 'Desconto de 8% (FGTS)' WHERE cod_fin = 02 \"\n",
    "cursor.execute(\"ROLLBACK\")\n",
    "cursor.execute(sql_update)\n",
    "conn2.commit()"
   ]
  },
  {
   "cell_type": "code",
   "execution_count": null,
   "metadata": {},
   "outputs": [],
   "source": [
    "import psycopg2\n",
    "engine = create_engine('postgresql:///postgres:125802@localhost:5432/pydw',pool_size=10, max_overflow=20, pool_pre_ping=True)"
   ]
  },
  {
   "cell_type": "code",
   "execution_count": null,
   "metadata": {},
   "outputs": [],
   "source": [
    "#Deeletnado um determinado valor, linha ou tabela\n",
    "sql_delete = \"DELETE FROM financeiro where cod_fin = 00\"\n",
    "\n",
    "cursor.execute(\"ROLLBACK\")\n",
    "cursor.execute(sql_delete)\n",
    "conn2.commit()"
   ]
  },
  {
   "cell_type": "code",
   "execution_count": null,
   "metadata": {},
   "outputs": [
    {
     "name": "stdout",
     "output_type": "stream",
     "text": [
      "   cod_forn nome_forn         cidade_forn uf_forn  \\\n",
      "0        10    Robson  Lucas de Rio Verde      MT   \n",
      "1        11     Paulo               Sinop      MT   \n",
      "2        12     Julie        Rondonopolis      MT   \n",
      "\n",
      "                descricao_produto  \n",
      "0      Artigo de festa(decoracao)  \n",
      "1    Artigo de festa (guluseimas)  \n",
      "2  Artigo de festa(lembrancinhas)  \n"
     ]
    },
    {
     "name": "stderr",
     "output_type": "stream",
     "text": [
      "/tmp/ipykernel_9790/1191952225.py:11: UserWarning: pandas only supports SQLAlchemy connectable (engine/connection) or database string URI or sqlite3 DBAPI2 connection. Other DBAPI2 objects are not tested. Please consider using SQLAlchemy.\n",
      "  df = pd.read_sql(query,conn2)\n"
     ]
    }
   ],
   "source": [
    "#conectando SGBD PostgreSQL \n",
    "import psycopg2 as ps\n",
    "conn2 = ps.connect(dbname = \"pydw\",\n",
    "                   user = \"postgres\",\n",
    "                   password = \"125802\",\n",
    "                   host = \"10.0.2.2\",\n",
    "                   port = \"5432\")\n",
    "# Selecionando e executando comando no dataframework\n",
    "cursor = conn2.cursor()\n",
    "query = \"SELECT * FROM fornecedor\" \n",
    "df = pd.read_sql(query,conn2)\n",
    "print(df.head(20))"
   ]
  },
  {
   "cell_type": "code",
   "execution_count": null,
   "metadata": {},
   "outputs": [],
   "source": [
    "cursor = conn2.cursor()\n",
    "#Inserindo dados na tabela\n",
    "sql_insert = \"INSERT INTO fornecedor (cod_forn, nome_forn, cidade_forn, uf_forn, descricao_produto) VALUES (010, 'Robson', 'Lucas de Rio Verde','MT', 'Artigo de festa(decoracao)'), (011, 'Paulo', 'Sinop', 'MT', 'Artigo de festa (guluseimas)'), (012, 'Julie', 'Rondonopolis', 'MT', 'Artigo de festa(lembrancinhas)')\"\n",
    "cursor.execute(\"ROLLBACK\")\n",
    "cursor.execute(sql_insert)\n",
    "conn2.commit()"
   ]
  },
  {
   "cell_type": "code",
   "execution_count": null,
   "metadata": {},
   "outputs": [
    {
     "name": "stdout",
     "output_type": "stream",
     "text": [
      "   cod_func nome_func      cpf_func funcao_func uf_func admissao_func  \\\n",
      "0       100     James  2.665853e+10    vendedor      MT    2022-01-03   \n",
      "1       110      Liza  8.179138e+10   vendedora      MT    2020-12-28   \n",
      "2       120      Emma  5.418865e+10   vendedora      MT    2022-05-07   \n",
      "\n",
      "  demissao_func filial_rh  \n",
      "0    2025-01-30    Matrix  \n",
      "1    2021-02-01    loja 2  \n",
      "2    2025-03-24    Matrix  \n"
     ]
    },
    {
     "name": "stderr",
     "output_type": "stream",
     "text": [
      "/tmp/ipykernel_9790/1530967822.py:11: UserWarning: pandas only supports SQLAlchemy connectable (engine/connection) or database string URI or sqlite3 DBAPI2 connection. Other DBAPI2 objects are not tested. Please consider using SQLAlchemy.\n",
      "  df = pd.read_sql(query,conn2)\n"
     ]
    }
   ],
   "source": [
    "#conectando SGBD PostgreSQL \n",
    "import psycopg2 as ps\n",
    "conn2 = ps.connect(dbname = \"pydw\",\n",
    "                   user = \"postgres\",\n",
    "                   password = \"125802\",\n",
    "                   host = \"10.0.2.2\",\n",
    "                   port = \"5432\")\n",
    "# Selecionando e executando comando no dataframework\n",
    "cursor = conn2.cursor()\n",
    "query = \"SELECT * FROM func_rh\" \n",
    "df = pd.read_sql(query,conn2)\n",
    "print(df.head(20))"
   ]
  },
  {
   "cell_type": "code",
   "execution_count": null,
   "metadata": {},
   "outputs": [],
   "source": [
    "cursor = conn2.cursor()\n",
    "#Inserindo dados na tabela\n",
    "sql_insert = \"INSERT INTO func_rh (cod_func, nome_func, cpf_func, funcao_func, uf_func, admissao_func, demissao_func, filial_rh) VALUES (100, 'James', '26658529426','vendedor','MT', '2022-01-03', '2025-01-30', 'Matrix'), (110, 'Liza', '81791382592','vendedora', 'MT', '2020-12-28', '2021-02-01', 'loja 2'), (120, 'Emma', '54188652500','vendedora', 'MT', '2022-05-07', '2025-03-24', 'Matrix');\"\n",
    "cursor.execute(\"ROLLBACK\")\n",
    "cursor.execute(sql_insert)\n",
    "conn2.commit()"
   ]
  },
  {
   "cell_type": "code",
   "execution_count": null,
   "metadata": {},
   "outputs": [
    {
     "name": "stdout",
     "output_type": "stream",
     "text": [
      "   cod_prod               nome_prod                               descricao  \\\n",
      "0       200                   Balao       Metalizado Cintilante Azul Escuro   \n",
      "1       210  Convite de Aniversario               Convite Festa Viúva Negra   \n",
      "2       220     Vela De Aniversário  Parabéns Letras Vela De Bolo De Festas   \n",
      "3       230     Painel Harry Potter           Decoração festa Grande em tnt   \n",
      "4       240             Lampada Led          Giratória Colorida Para Festas   \n",
      "\n",
      "   preco  qdt_estoque  \n",
      "0  12.90           30  \n",
      "1   4.90          120  \n",
      "2  34.90           50  \n",
      "3  35.00           25  \n",
      "4  16.89           28  \n"
     ]
    },
    {
     "name": "stderr",
     "output_type": "stream",
     "text": [
      "/tmp/ipykernel_9790/3602001511.py:11: UserWarning: pandas only supports SQLAlchemy connectable (engine/connection) or database string URI or sqlite3 DBAPI2 connection. Other DBAPI2 objects are not tested. Please consider using SQLAlchemy.\n",
      "  df = pd.read_sql(query,conn2)\n"
     ]
    }
   ],
   "source": [
    "#conectando SGBD PostgreSQL \n",
    "import psycopg2 as ps\n",
    "conn2 = ps.connect(dbname = \"pydw\",\n",
    "                   user = \"postgres\",\n",
    "                   password = \"125802\",\n",
    "                   host = \"10.0.2.2\",\n",
    "                   port = \"5432\")\n",
    "# Selecionando e executando comando no dataframework\n",
    "cursor = conn2.cursor()\n",
    "query = \"SELECT * FROM produto\" \n",
    "df = pd.read_sql(query,conn2)\n",
    "print(df.head(20))"
   ]
  },
  {
   "cell_type": "code",
   "execution_count": null,
   "metadata": {},
   "outputs": [],
   "source": [
    "cursor = conn2.cursor()\n",
    "#Inserindo dados na tabela\n",
    "sql_insert = \"INSERT INTO produto (cod_prod, nome_prod, descricao, preco, qdt_estoque) VALUES (200, 'Balao', 'Metalizado Cintilante Azul Escuro', 12.90, 30), (210,'Convite de Aniversario', 'Convite Festa Viúva Negra',4.90, 120), (220,'Vela De Aniversário', 'Parabéns Letras Vela De Bolo De Festas', 34.90, 50), (230, 'Painel Harry Potter', 'Decoração festa Grande em tnt', 35.00, 25), (240, 'Lampada Led', 'Giratória Colorida Para Festas', 16.89, 28)\"\n",
    "cursor.execute(\"ROLLBACK\")\n",
    "cursor.execute(sql_insert)\n",
    "conn2.commit()"
   ]
  },
  {
   "cell_type": "code",
   "execution_count": null,
   "metadata": {},
   "outputs": [
    {
     "name": "stdout",
     "output_type": "stream",
     "text": [
      "   id data_completa   ano  mes  dia        semana\n",
      "0   1    2022-06-30  2022    6   30  quinta-feira\n",
      "1   2    2021-02-07  2021    2    7       domingo\n"
     ]
    },
    {
     "name": "stderr",
     "output_type": "stream",
     "text": [
      "/tmp/ipykernel_9790/1269712662.py:11: UserWarning: pandas only supports SQLAlchemy connectable (engine/connection) or database string URI or sqlite3 DBAPI2 connection. Other DBAPI2 objects are not tested. Please consider using SQLAlchemy.\n",
      "  df = pd.read_sql(query,conn2)\n"
     ]
    }
   ],
   "source": [
    "#conectando SGBD PostgreSQL \n",
    "import psycopg2 as ps\n",
    "conn2 = ps.connect(dbname = \"pydw\",\n",
    "                   user = \"postgres\",\n",
    "                   password = \"125802\",\n",
    "                   host = \"10.0.2.2\",\n",
    "                   port = \"5432\")\n",
    "# Selecionando e executando comando no dataframework\n",
    "cursor = conn2.cursor()\n",
    "query = \"SELECT * FROM dim_tempo\" \n",
    "df = pd.read_sql(query,conn2)\n",
    "print(df.head(20))"
   ]
  },
  {
   "cell_type": "code",
   "execution_count": null,
   "metadata": {},
   "outputs": [],
   "source": [
    "cursor = conn2.cursor()\n",
    "#Inserindo dados na tabela\n",
    "sql_insert = \"insert into dim_tempo (id, data_completa, ano, mes, dia, semana) VALUES (002, '2021-02-07', 2021, 02, 07, 'domingo') \"\n",
    "cursor.execute(\"ROLLBACK\")\n",
    "cursor.execute(sql_insert)\n",
    "conn2.commit()"
   ]
  },
  {
   "cell_type": "code",
   "execution_count": null,
   "metadata": {},
   "outputs": [
    {
     "name": "stdout",
     "output_type": "stream",
     "text": [
      "Empty DataFrame\n",
      "Columns: [cod_vendas, cod_prod, cod_func_rh, cod_fin, cod_forn, qtd]\n",
      "Index: []\n"
     ]
    },
    {
     "name": "stderr",
     "output_type": "stream",
     "text": [
      "/tmp/ipykernel_9790/2795053663.py:11: UserWarning: pandas only supports SQLAlchemy connectable (engine/connection) or database string URI or sqlite3 DBAPI2 connection. Other DBAPI2 objects are not tested. Please consider using SQLAlchemy.\n",
      "  df = pd.read_sql(query,conn2)\n"
     ]
    }
   ],
   "source": [
    "#conectando SGBD PostgreSQL \n",
    "import psycopg2 as ps\n",
    "conn2 = ps.connect(dbname = \"pydw\",\n",
    "                   user = \"postgres\",\n",
    "                   password = \"125802\",\n",
    "                   host = \"10.0.2.2\",\n",
    "                   port = \"5432\")\n",
    "# Selecionando e executando comando no dataframework\n",
    "cursor = conn2.cursor()\n",
    "query = \"SELECT * FROM vendas\" \n",
    "df = pd.read_sql(query,conn2)\n",
    "print(df.head(20))"
   ]
  }
 ],
 "metadata": {
  "kernelspec": {
   "display_name": "Python 3.10.6 ('.venv': venv)",
   "language": "python",
   "name": "python3"
  },
  "language_info": {
   "codemirror_mode": {
    "name": "ipython",
    "version": 3
   },
   "file_extension": ".py",
   "mimetype": "text/x-python",
   "name": "python",
   "nbconvert_exporter": "python",
   "pygments_lexer": "ipython3",
   "version": "3.11.3"
  },
  "orig_nbformat": 4,
  "vscode": {
   "interpreter": {
    "hash": "7860ca52a30de5854ee8c62d6b5932f6c554836752afa01c054090ae38c10115"
   }
  }
 },
 "nbformat": 4,
 "nbformat_minor": 2
}
